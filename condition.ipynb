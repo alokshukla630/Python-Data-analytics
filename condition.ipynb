{
 "cells": [
  {
   "cell_type": "code",
   "execution_count": 2,
   "metadata": {},
   "outputs": [
    {
     "name": "stdout",
     "output_type": "stream",
     "text": [
      "z is bigger\n"
     ]
    }
   ],
   "source": [
    "x=5\n",
    "y=8\n",
    "z=x+y\n",
    "if(z>0 and z>x):\n",
    "    print(\"z is bigger👌\")\n",
    "elif(z>0 and z>y):\n",
    "    print(\"z is bigger🤞\" )\n",
    "else:\n",
    "    print(\"x and y are smaller✔\")    \n",
    "        "
   ]
  },
  {
   "cell_type": "code",
   "execution_count": 4,
   "metadata": {},
   "outputs": [
    {
     "name": "stdout",
     "output_type": "stream",
     "text": [
      "you followed the instruction\n",
      "great🤞\n"
     ]
    }
   ],
   "source": [
    "a= input(\"enter a number:\")\n",
    "if a.isnumeric():\n",
    "    print(\"you followed the instruction\")\n",
    "    print(\"great🤞\")\n",
    "else:\n",
    "    print(\"you didn't follow the instruction \")\n",
    "    print(\"great👌\")    \n"
   ]
  },
  {
   "cell_type": "code",
   "execution_count": 5,
   "metadata": {},
   "outputs": [
    {
     "name": "stdout",
     "output_type": "stream",
     "text": [
      "you choose the right option🤞\n"
     ]
    }
   ],
   "source": [
    "menu=[\"apple\",'banana','salad',]\n",
    "order= input(\"what would you like to choose\")\n",
    "if order in menu:\n",
    "    print(\"you choose the right option🤞\")\n",
    "else:\n",
    "    print(\"plz choose the right option👀\")    "
   ]
  },
  {
   "cell_type": "code",
   "execution_count": null,
   "metadata": {},
   "outputs": [],
   "source": []
  }
 ],
 "metadata": {
  "kernelspec": {
   "display_name": "base",
   "language": "python",
   "name": "python3"
  },
  "language_info": {
   "codemirror_mode": {
    "name": "ipython",
    "version": 3
   },
   "file_extension": ".py",
   "mimetype": "text/x-python",
   "name": "python",
   "nbconvert_exporter": "python",
   "pygments_lexer": "ipython3",
   "version": "3.10.8"
  },
  "orig_nbformat": 4,
  "vscode": {
   "interpreter": {
    "hash": "167cecdb405fce503900cb57d6dfd342559047d0558c5d3fa55fcfc7aba6f73c"
   }
  }
 },
 "nbformat": 4,
 "nbformat_minor": 2
}
