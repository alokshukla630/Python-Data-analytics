{
 "cells": [
  {
   "cell_type": "code",
   "execution_count": 2,
   "metadata": {},
   "outputs": [
    {
     "name": "stdout",
     "output_type": "stream",
     "text": [
      "z is bigger\n"
     ]
    }
   ],
   "source": [
    "x=5\n",
    "y=8\n",
    "z=x+y\n",
    "if(z>0 and z>x):\n",
    "    print(\"z is bigger👌\")\n",
    "elif(z>0 and z>y):\n",
    "    print(\"z is bigger🤞\" )\n",
    "else:\n",
    "    print(\"x and y are smaller✔\")    \n",
    "        "
   ]
  },
  {
   "cell_type": "code",
   "execution_count": 4,
   "metadata": {},
   "outputs": [
    {
     "name": "stdout",
     "output_type": "stream",
     "text": [
      "you followed the instruction\n",
      "great🤞\n"
     ]
    }
   ],
   "source": [
    "a= input(\"enter a number:\")\n",
    "if a.isnumeric():\n",
    "    print(\"you followed the instruction\")\n",
    "    print(\"great🤞\")\n",
    "else:\n",
    "    print(\"you didn't follow the instruction \")\n",
    "    print(\"great👌\")    \n"
   ]
  },
  {
   "cell_type": "code",
   "execution_count": 1,
   "metadata": {},
   "outputs": [
    {
     "name": "stdout",
     "output_type": "stream",
     "text": [
      "you choose the right option🤞\n"
     ]
    }
   ],
   "source": [
    "menu=[\"apple\",'banana','salad',]\n",
    "order= input(\"what would you like to choose\")\n",
    "if order in menu:\n",
    "    print(\"you choose the right option🤞\")\n",
    "else:\n",
    "    print(\"plz choose the right option👀\")    "
   ]
  },
  {
   "cell_type": "code",
   "execution_count": 2,
   "metadata": {},
   "outputs": [
    {
     "name": "stdout",
     "output_type": "stream",
     "text": [
      "c\n"
     ]
    }
   ],
   "source": [
    "x= int(input(\"enter number\"))\n",
    "if x<20:\n",
    "    print(\"E\")\n",
    "elif x>=20 and x<40:\n",
    "    print(\"D\")\n",
    "elif x>=40 and x<60:\n",
    "    print(\"c\")\n",
    "elif x>=60 and x<80:\n",
    "    print(\"A\")\n",
    "elif x>=80 and x<100:\n",
    "    print(\"S\")\n",
    "else:\n",
    "    print(\"Invalid entry\")                "
   ]
  },
  {
   "cell_type": "code",
   "execution_count": 6,
   "metadata": {},
   "outputs": [
    {
     "name": "stdout",
     "output_type": "stream",
     "text": [
      "password in valid\n"
     ]
    }
   ],
   "source": [
    "uname =input(\"enter your name\")\n",
    "email =input(\"enter your email \")\n",
    "pwd= input(\"enter your password\")\n",
    "pwd2=input(\"confirm password\")\n",
    "if len(uname) >=4 and len(uname) <16:\n",
    "    if '@' in email and len(email) >6:\n",
    "        if len(pwd) >=8 and len(pwd) <=20 and pwd != uname:\n",
    "            if pwd == pwd2:\n",
    "                print(\"hurrey👍\")\n",
    "            else:\n",
    "                print(\"password do not match\")\n",
    "        else:\n",
    "            print(\"password in valid\")\n",
    "    else:\n",
    "        print(\"email is invaslid🤞\") \n",
    "else:\n",
    "    print(\"username is invalid\")\n",
    "                      "
   ]
  },
  {
   "cell_type": "code",
   "execution_count": 7,
   "metadata": {},
   "outputs": [
    {
     "name": "stdout",
     "output_type": "stream",
     "text": [
      "you are someone else\n"
     ]
    }
   ],
   "source": [
    "name = input(\"enter your name\")\n",
    "match name:\n",
    "    case \"Alok\":\n",
    "        print(\"so you are Alok Shukla\")\n",
    "    case \"Anand\":\n",
    "        print(\"So you are Anand\")\n",
    "    case other:\n",
    "        print(\"you are someone else\")        \n"
   ]
  },
  {
   "cell_type": "code",
   "execution_count": 9,
   "metadata": {},
   "outputs": [
    {
     "name": "stdout",
     "output_type": "stream",
     "text": [
      "Invalid entry\n"
     ]
    }
   ],
   "source": [
    "marks= int(input(\"enter number\"))\n",
    "match marks:\n",
    "    case 20:\n",
    "        print(\"E\")\n",
    "    case 40:\n",
    "        print(\"D\")\n",
    "    case 60:\n",
    "        print(\"c\")\n",
    "    case 80:\n",
    "        print(\"A\")\n",
    "    case 100:\n",
    "        print(\"S\")\n",
    "    case _:\n",
    "        print(\"Invalid entry\")   "
   ]
  },
  {
   "cell_type": "code",
   "execution_count": 14,
   "metadata": {},
   "outputs": [
    {
     "name": "stdout",
     "output_type": "stream",
     "text": [
      "45000.0\n"
     ]
    }
   ],
   "source": [
    "designation = input(\"enter your designation\")\n",
    "match designation:\n",
    "    case 'manager':\n",
    "        bs = 50000\n",
    "        bns= bs *.1\n",
    "        hra= bs *.2\n",
    "        ns = bs + bns + hra\n",
    "        print(f'manager salary is :{ns}')\n",
    "    case 'developer':\n",
    "        bs = 40000\n",
    "        bns= bs *.2\n",
    "        hra= bs *.2\n",
    "        ns = bs + bns + hra\n",
    "        print(f'developer salary is :{ns}')\n",
    "        \n",
    "    case 'tester':\n",
    "        bs = 30000\n",
    "        bns= bs *.3\n",
    "        hra= bs *.2\n",
    "        ns = bs + bns + hra\n",
    "        print(f'tester salary is :{ns}')\n",
    "        \n",
    "    case _:\n",
    "        print(\"you are fired\")\n"
   ]
  },
  {
   "cell_type": "code",
   "execution_count": null,
   "metadata": {},
   "outputs": [],
   "source": []
  },
  {
   "cell_type": "code",
   "execution_count": null,
   "metadata": {},
   "outputs": [],
   "source": []
  }
 ],
 "metadata": {
  "kernelspec": {
   "display_name": "base",
   "language": "python",
   "name": "python3"
  },
  "language_info": {
   "codemirror_mode": {
    "name": "ipython",
    "version": 3
   },
   "file_extension": ".py",
   "mimetype": "text/x-python",
   "name": "python",
   "nbconvert_exporter": "python",
   "pygments_lexer": "ipython3",
   "version": "3.10.8"
  },
  "orig_nbformat": 4,
  "vscode": {
   "interpreter": {
    "hash": "167cecdb405fce503900cb57d6dfd342559047d0558c5d3fa55fcfc7aba6f73c"
   }
  }
 },
 "nbformat": 4,
 "nbformat_minor": 2
}
