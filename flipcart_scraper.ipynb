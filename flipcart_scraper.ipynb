{
 "cells": [
  {
   "cell_type": "code",
   "execution_count": 2,
   "metadata": {},
   "outputs": [],
   "source": [
    "from dputils.scrape import Scraper ,Tag"
   ]
  },
  {
   "cell_type": "code",
   "execution_count": 3,
   "metadata": {},
   "outputs": [
    {
     "data": {
      "text/plain": [
       "<title>Online Shopping India Mobile, Cameras, Lifestyle &amp; more Online @ Flipkart.com</title>"
      ]
     },
     "execution_count": 3,
     "metadata": {},
     "output_type": "execute_result"
    }
   ],
   "source": [
    "query = 'phones'\n",
    "page = 1\n",
    "url = f'https://www.flipkart.com/search?q={query}&page={page}'\n",
    "scraper = Scraper(url)\n",
    "scraper.soup.title"
   ]
  },
  {
   "cell_type": "code",
   "execution_count": 4,
   "metadata": {},
   "outputs": [
    {
     "name": "stdout",
     "output_type": "stream",
     "text": [
      "0\n"
     ]
    }
   ],
   "source": [
    "#page item\n",
    "target = Tag(cls='_1YokD2 _3Mn1Gg')\n",
    "item = Tag(cls='_1AtVbE col-12-12')\n",
    "#product items\n",
    "title  = Tag(cls ='_4rR01T')\n",
    "price  = Tag(cls = '_30jeq3 _1_WHN1')\n",
    "rating = Tag('span', cls='_2_R_DZ')\n",
    "out= scraper.get_all(target,item,name=title,price = price,rr=rating)\n",
    "print(len(out))\n"
   ]
  },
  {
   "cell_type": "code",
   "execution_count": 5,
   "metadata": {},
   "outputs": [
    {
     "data": {
      "text/plain": [
       "[{'name': 'POCO C50 (Royal Blue, 32 GB)',\n",
       "  'price': '₹5,749',\n",
       "  'rr': '12,848 Ratings\\xa0&\\xa0564 Reviews'},\n",
       " {'name': 'POCO C50 (Country Green, 32 GB)',\n",
       "  'price': '₹5,749',\n",
       "  'rr': '12,848 Ratings\\xa0&\\xa0564 Reviews'},\n",
       " {'name': 'realme C33 (Sandy Gold, 64 GB)',\n",
       "  'price': '₹9,999',\n",
       "  'rr': '64,428 Ratings\\xa0&\\xa02,837 Reviews'},\n",
       " {'name': 'Kechaoda K33',\n",
       "  'price': '₹1,149',\n",
       "  'rr': '8,521 Ratings\\xa0&\\xa0562 Reviews'},\n",
       " {'name': 'realme C33 (Night Sea, 64 GB)',\n",
       "  'price': '₹9,999',\n",
       "  'rr': '64,428 Ratings\\xa0&\\xa02,837 Reviews'},\n",
       " {'name': 'realme C33 (Aqua Blue, 32 GB)',\n",
       "  'price': '₹8,999',\n",
       "  'rr': '21,644 Ratings\\xa0&\\xa0903 Reviews'},\n",
       " {'name': 'realme C33 (Sandy Gold, 32 GB)',\n",
       "  'price': '₹8,999',\n",
       "  'rr': '21,644 Ratings\\xa0&\\xa0903 Reviews'},\n",
       " {'name': 'Jmax J32 Combo of Two',\n",
       "  'price': '₹1,709',\n",
       "  'rr': '7 Ratings\\xa0&\\xa00 Reviews'},\n",
       " {'name': 'realme C33 (Night Sea, 32 GB)',\n",
       "  'price': '₹8,999',\n",
       "  'rr': '21,644 Ratings\\xa0&\\xa0903 Reviews'},\n",
       " {'name': 'realme C33 (Aqua Blue, 64 GB)',\n",
       "  'price': '₹9,999',\n",
       "  'rr': '64,428 Ratings\\xa0&\\xa02,837 Reviews'},\n",
       " {'name': 'MOTOROLA e13 (Aurora Green, 64 GB)',\n",
       "  'price': '₹7,799',\n",
       "  'rr': '9,213 Ratings\\xa0&\\xa0859 Reviews'},\n",
       " {'name': 'Jmax J06 Combo of Two Mobiles',\n",
       "  'price': '₹1,719',\n",
       "  'rr': '10 Ratings\\xa0&\\xa01 Reviews'},\n",
       " {'name': 'POCO C50 (Country Green, 32 GB)',\n",
       "  'price': '₹6,549',\n",
       "  'rr': '4,108 Ratings\\xa0&\\xa0252 Reviews'},\n",
       " {'name': 'Nokia 105 SS',\n",
       "  'price': '₹1,299',\n",
       "  'rr': '35,341 Ratings\\xa0&\\xa02,454 Reviews'},\n",
       " {'name': 'MOTOROLA G32 (Mineral Gray, 128 GB)',\n",
       "  'price': '₹11,999',\n",
       "  'rr': '1,751 Ratings\\xa0&\\xa0168 Reviews'},\n",
       " {'name': 'Jmax J80 Combo of Two Mobile',\n",
       "  'price': '₹1,719',\n",
       "  'rr': '3 Ratings\\xa0&\\xa00 Reviews'},\n",
       " {'name': 'Infinix SMART 7 (Azure Blue, 64 GB)',\n",
       "  'price': '₹7,499',\n",
       "  'rr': '8,163 Ratings\\xa0&\\xa0510 Reviews'},\n",
       " {'name': 'MOTOROLA e40 (Carbon Gray, 64 GB)',\n",
       "  'price': '₹8,599',\n",
       "  'rr': '76,723 Ratings\\xa0&\\xa07,126 Reviews'},\n",
       " {'name': 'realme C30 (Bamboo Green, 32 GB)',\n",
       "  'price': '₹5,999',\n",
       "  'rr': '95,794 Ratings\\xa0&\\xa05,157 Reviews'},\n",
       " {'name': 'Jmax J30 Combo of Two Mobiles',\n",
       "  'price': '₹1,599',\n",
       "  'rr': '3 Ratings\\xa0&\\xa00 Reviews'},\n",
       " {'name': 'realme C30 (Lake Blue, 32 GB)',\n",
       "  'price': '₹5,999',\n",
       "  'rr': '95,794 Ratings\\xa0&\\xa05,157 Reviews'},\n",
       " {'name': 'realme C30 (Denim Black, 32 GB)',\n",
       "  'price': '₹5,999',\n",
       "  'rr': '95,794 Ratings\\xa0&\\xa05,157 Reviews'},\n",
       " {'name': 'realme C30 (Bamboo Green, 32 GB)',\n",
       "  'price': '₹6,999',\n",
       "  'rr': '44,785 Ratings\\xa0&\\xa02,848 Reviews'},\n",
       " {'name': 'Jmax J32', 'price': '₹799', 'rr': '260 Ratings\\xa0&\\xa021 Reviews'},\n",
       " {'name': None, 'price': None, 'rr': None},\n",
       " {'name': None, 'price': None, 'rr': None}]"
      ]
     },
     "execution_count": 5,
     "metadata": {},
     "output_type": "execute_result"
    }
   ],
   "source": [
    "out"
   ]
  },
  {
   "cell_type": "code",
   "execution_count": 5,
   "metadata": {},
   "outputs": [],
   "source": [
    "from scraping_module import MyScraper"
   ]
  },
  {
   "cell_type": "code",
   "execution_count": 6,
   "metadata": {},
   "outputs": [
    {
     "name": "stdout",
     "output_type": "stream",
     "text": [
      "Collecting page 1...\n",
      "https://www.flipkart.com/search?q=bags&page=2\n",
      "Collecting page 2...\n",
      "https://www.flipkart.com/search?q=bags&page=3\n",
      "Collecting page 3...\n",
      "https://www.flipkart.com/search?q=bags&page=4\n",
      "Collecting page 4...\n",
      "https://www.flipkart.com/search?q=bags&page=5\n",
      "Collecting page 5...\n",
      "https://www.flipkart.com/search?q=bags&page=6\n",
      "Collecting page 6...\n",
      "https://www.flipkart.com/search?q=bags&page=7\n",
      "Collecting page 7...\n",
      "https://www.flipkart.com/search?q=bags&page=8\n",
      "Collecting page 8...\n",
      "https://www.flipkart.com/search?q=bags&page=9\n",
      "Collecting page 9...\n"
     ]
    },
    {
     "data": {
      "text/plain": [
       "[{'name': None, 'price': None, 'rr': None},\n",
       " {'name': None, 'price': None, 'rr': None},\n",
       " {'name': None, 'price': None, 'rr': None},\n",
       " {'name': None, 'price': None, 'rr': None},\n",
       " {'name': None, 'price': None, 'rr': None},\n",
       " {'name': None, 'price': None, 'rr': None},\n",
       " {'name': None, 'price': None, 'rr': None},\n",
       " {'name': None, 'price': None, 'rr': None},\n",
       " {'name': None, 'price': None, 'rr': None},\n",
       " {'name': None, 'price': None, 'rr': None},\n",
       " {'name': None, 'price': None, 'rr': None},\n",
       " {'name': None, 'price': None, 'rr': None},\n",
       " {'name': None, 'price': None, 'rr': None},\n",
       " {'name': None, 'price': None, 'rr': None},\n",
       " {'name': None, 'price': None, 'rr': None},\n",
       " {'name': None, 'price': None, 'rr': None},\n",
       " {'name': None, 'price': None, 'rr': None},\n",
       " {'name': None, 'price': None, 'rr': None},\n",
       " {'name': None, 'price': None, 'rr': None},\n",
       " {'name': None, 'price': None, 'rr': None},\n",
       " {'name': None, 'price': None, 'rr': None},\n",
       " {'name': None, 'price': None, 'rr': None},\n",
       " {'name': None, 'price': None, 'rr': None},\n",
       " {'name': None, 'price': None, 'rr': None},\n",
       " {'name': None, 'price': None, 'rr': None},\n",
       " {'name': None, 'price': None, 'rr': None},\n",
       " {'name': None, 'price': None, 'rr': None},\n",
       " {'name': None, 'price': None, 'rr': None},\n",
       " {'name': None, 'price': None, 'rr': None},\n",
       " {'name': None, 'price': None, 'rr': None},\n",
       " {'name': None, 'price': None, 'rr': None},\n",
       " {'name': None, 'price': None, 'rr': None},\n",
       " {'name': None, 'price': None, 'rr': None},\n",
       " {'name': None, 'price': None, 'rr': None},\n",
       " {'name': None, 'price': None, 'rr': None},\n",
       " {'name': None, 'price': None, 'rr': None},\n",
       " {'name': None, 'price': None, 'rr': None},\n",
       " {'name': None, 'price': None, 'rr': None},\n",
       " {'name': None, 'price': None, 'rr': None},\n",
       " {'name': None, 'price': None, 'rr': None},\n",
       " {'name': None, 'price': None, 'rr': None},\n",
       " {'name': None, 'price': None, 'rr': None},\n",
       " {'name': None, 'price': None, 'rr': None},\n",
       " {'name': None, 'price': None, 'rr': None},\n",
       " {'name': None, 'price': None, 'rr': None},\n",
       " {'name': None, 'price': None, 'rr': None},\n",
       " {'name': None, 'price': None, 'rr': None},\n",
       " {'name': None, 'price': None, 'rr': None},\n",
       " {'name': None, 'price': None, 'rr': None},\n",
       " {'name': None, 'price': None, 'rr': None},\n",
       " {'name': None, 'price': None, 'rr': None},\n",
       " {'name': None, 'price': None, 'rr': None},\n",
       " {'name': None, 'price': None, 'rr': None},\n",
       " {'name': None, 'price': None, 'rr': None},\n",
       " {'name': None, 'price': None, 'rr': None},\n",
       " {'name': None, 'price': None, 'rr': None},\n",
       " {'name': None, 'price': None, 'rr': None},\n",
       " {'name': None, 'price': None, 'rr': None},\n",
       " {'name': None, 'price': None, 'rr': None},\n",
       " {'name': None, 'price': None, 'rr': None},\n",
       " {'name': None, 'price': None, 'rr': None},\n",
       " {'name': None, 'price': None, 'rr': None},\n",
       " {'name': None, 'price': None, 'rr': None},\n",
       " {'name': None, 'price': None, 'rr': None},\n",
       " {'name': None, 'price': None, 'rr': None},\n",
       " {'name': None, 'price': None, 'rr': None},\n",
       " {'name': None, 'price': None, 'rr': None},\n",
       " {'name': None, 'price': None, 'rr': None},\n",
       " {'name': None, 'price': None, 'rr': None},\n",
       " {'name': None, 'price': None, 'rr': None},\n",
       " {'name': None, 'price': None, 'rr': None},\n",
       " {'name': None, 'price': None, 'rr': None},\n",
       " {'name': None, 'price': None, 'rr': None},\n",
       " {'name': None, 'price': None, 'rr': None},\n",
       " {'name': None, 'price': None, 'rr': None},\n",
       " {'name': None, 'price': None, 'rr': None},\n",
       " {'name': None, 'price': None, 'rr': None},\n",
       " {'name': None, 'price': None, 'rr': None},\n",
       " {'name': None, 'price': None, 'rr': None},\n",
       " {'name': None, 'price': None, 'rr': None},\n",
       " {'name': None, 'price': None, 'rr': None},\n",
       " {'name': None, 'price': None, 'rr': None},\n",
       " {'name': None, 'price': None, 'rr': None},\n",
       " {'name': None, 'price': None, 'rr': None},\n",
       " {'name': None, 'price': None, 'rr': None},\n",
       " {'name': None, 'price': None, 'rr': None},\n",
       " {'name': None, 'price': None, 'rr': None},\n",
       " {'name': None, 'price': None, 'rr': None},\n",
       " {'name': None, 'price': None, 'rr': None},\n",
       " {'name': None, 'price': None, 'rr': None},\n",
       " {'name': None, 'price': None, 'rr': None},\n",
       " {'name': None, 'price': None, 'rr': None},\n",
       " {'name': None, 'price': None, 'rr': None},\n",
       " {'name': None, 'price': None, 'rr': None},\n",
       " {'name': None, 'price': None, 'rr': None},\n",
       " {'name': None, 'price': None, 'rr': None}]"
      ]
     },
     "execution_count": 6,
     "metadata": {},
     "output_type": "execute_result"
    }
   ],
   "source": [
    "msc = MyScraper('bags')\n",
    "msc.collect_all()\n",
    "msc.dataset"
   ]
  },
  {
   "cell_type": "code",
   "execution_count": null,
   "metadata": {},
   "outputs": [],
   "source": []
  }
 ],
 "metadata": {
  "kernelspec": {
   "display_name": "base",
   "language": "python",
   "name": "python3"
  },
  "language_info": {
   "codemirror_mode": {
    "name": "ipython",
    "version": 3
   },
   "file_extension": ".py",
   "mimetype": "text/x-python",
   "name": "python",
   "nbconvert_exporter": "python",
   "pygments_lexer": "ipython3",
   "version": "3.10.8"
  },
  "orig_nbformat": 4
 },
 "nbformat": 4,
 "nbformat_minor": 2
}
