{
 "cells": [
  {
   "attachments": {},
   "cell_type": "markdown",
   "metadata": {},
   "source": [
    "List property\n",
    "\n",
    "1.ordere(sequence)\n",
    "2.unindexed\n",
    "3.mutable(changeable)\n",
    "4.allow duplicate values,but keys are unique\n",
    "5.key :value pairs\n",
    "6.keys are imutable(vcan not changed)\n",
    "7.values can be hetrogenous(different type of data )\n",
    "8.denoted by '{}'\n",
    "9.an list of paired values can be converted to dict using dict() function\n",
    "\n",
    "\n",
    "# dicctionary\n",
    ".Creation\n",
    ".methods\n"
   ]
  },
  {
   "cell_type": "code",
   "execution_count": 3,
   "metadata": {},
   "outputs": [],
   "source": [
    "series  = { 'name':'flash','total season':8,'most popular season':4,'genre':'sci-fi','available':'netflix'}"
   ]
  },
  {
   "cell_type": "code",
   "execution_count": 4,
   "metadata": {},
   "outputs": [
    {
     "data": {
      "text/plain": [
       "{'name': 'flash',\n",
       " 'total season': 8,\n",
       " 'most popular season': 4,\n",
       " 'genre': 'sci-fi',\n",
       " 'available': 'netflix'}"
      ]
     },
     "execution_count": 4,
     "metadata": {},
     "output_type": "execute_result"
    }
   ],
   "source": [
    "series"
   ]
  },
  {
   "cell_type": "code",
   "execution_count": 5,
   "metadata": {},
   "outputs": [
    {
     "data": {
      "text/plain": [
       "8"
      ]
     },
     "execution_count": 5,
     "metadata": {},
     "output_type": "execute_result"
    }
   ],
   "source": [
    "series['total season']"
   ]
  },
  {
   "cell_type": "code",
   "execution_count": 6,
   "metadata": {},
   "outputs": [],
   "source": [
    "series2 = {}"
   ]
  },
  {
   "cell_type": "code",
   "execution_count": 22,
   "metadata": {},
   "outputs": [],
   "source": [
    "series2['Title'] = 'Arrow'\n"
   ]
  },
  {
   "cell_type": "code",
   "execution_count": 23,
   "metadata": {},
   "outputs": [
    {
     "data": {
      "text/plain": [
       "'Arrow'"
      ]
     },
     "execution_count": 23,
     "metadata": {},
     "output_type": "execute_result"
    }
   ],
   "source": [
    "series2['Title']"
   ]
  },
  {
   "cell_type": "code",
   "execution_count": 24,
   "metadata": {},
   "outputs": [],
   "source": [
    "series2['season'] = 8\n",
    "series2['genre'] = 'Action'\n",
    "series2['studio'] = 'Dc comoic'"
   ]
  },
  {
   "cell_type": "code",
   "execution_count": 25,
   "metadata": {},
   "outputs": [
    {
     "data": {
      "text/plain": [
       "{'season': 8, 'genre': 'Action', 'studio': 'Dc comoic', 'Title': 'Arrow'}"
      ]
     },
     "execution_count": 25,
     "metadata": {},
     "output_type": "execute_result"
    }
   ],
   "source": [
    "series2"
   ]
  },
  {
   "cell_type": "code",
   "execution_count": 26,
   "metadata": {},
   "outputs": [],
   "source": [
    "books = {\n",
    "    'book 1':{\n",
    "         'titl':'Hyper focus',\n",
    "         'Author':'Hai koi',\n",
    "         'Summary':'Focus on your attention space' \n",
    "    },\n",
    "    'book2':{\n",
    "          'title':'Think like a monk',\n",
    "          'author':'Jay shetty',\n",
    "          'summary':'How a monk live a life'\n",
    "    },\n",
    "    'book3':{\n",
    "          'title':'the shutle of art not giving a fuck',\n",
    "          'author':'name yad ni a raha hai abhi',\n",
    "          'summary':'Just focus on yourself'\n",
    "    }\n",
    "}"
   ]
  },
  {
   "cell_type": "code",
   "execution_count": 29,
   "metadata": {},
   "outputs": [
    {
     "data": {
      "text/plain": [
       "{'title': 'Think like a monk',\n",
       " 'author': 'Jay shetty',\n",
       " 'summary': 'How a monk live a life'}"
      ]
     },
     "execution_count": 29,
     "metadata": {},
     "output_type": "execute_result"
    }
   ],
   "source": [
    "books['book2']"
   ]
  },
  {
   "cell_type": "code",
   "execution_count": 31,
   "metadata": {},
   "outputs": [
    {
     "data": {
      "text/plain": [
       "'the shutle of art not giving a fuck'"
      ]
     },
     "execution_count": 31,
     "metadata": {},
     "output_type": "execute_result"
    }
   ],
   "source": [
    "books['book3']['title']"
   ]
  },
  {
   "cell_type": "code",
   "execution_count": 34,
   "metadata": {},
   "outputs": [
    {
     "name": "stdout",
     "output_type": "stream",
     "text": [
      "season 8\n",
      "genre Action\n",
      "studio Dc comoic\n",
      "Title Arrow\n"
     ]
    }
   ],
   "source": [
    "for i in series2:\n",
    "    print(i,series2[i])"
   ]
  },
  {
   "cell_type": "code",
   "execution_count": 35,
   "metadata": {},
   "outputs": [
    {
     "name": "stdout",
     "output_type": "stream",
     "text": [
      "name flash\n",
      "total season 8\n",
      "most popular season 4\n",
      "genre sci-fi\n",
      "available netflix\n"
     ]
    }
   ],
   "source": [
    "for k,v in series.items():\n",
    "    print(k,v)"
   ]
  },
  {
   "cell_type": "code",
   "execution_count": 37,
   "metadata": {},
   "outputs": [
    {
     "name": "stdout",
     "output_type": "stream",
     "text": [
      "book 1 titl Hyper focus\n",
      "book 1 Author Hai koi\n",
      "book 1 Summary Focus on your attention space\n",
      "book2 title Think like a monk\n",
      "book2 author Jay shetty\n",
      "book2 summary How a monk live a life\n",
      "book3 title the shutle of art not giving a fuck\n",
      "book3 author name yad ni a raha hai abhi\n",
      "book3 summary Just focus on yourself\n"
     ]
    }
   ],
   "source": [
    "for  k,v in books.items():\n",
    "    for k1,v1 in v.items():\n",
    "        print(k,k1,v1)"
   ]
  },
  {
   "cell_type": "code",
   "execution_count": 38,
   "metadata": {},
   "outputs": [
    {
     "data": {
      "text/plain": [
       "['name', 'total season', 'most popular season', 'genre', 'available']"
      ]
     },
     "execution_count": 38,
     "metadata": {},
     "output_type": "execute_result"
    }
   ],
   "source": [
    "list(series.keys())"
   ]
  },
  {
   "cell_type": "code",
   "execution_count": 39,
   "metadata": {},
   "outputs": [
    {
     "data": {
      "text/plain": [
       "['flash', 8, 4, 'sci-fi', 'netflix']"
      ]
     },
     "execution_count": 39,
     "metadata": {},
     "output_type": "execute_result"
    }
   ],
   "source": [
    "list(series.values())"
   ]
  },
  {
   "cell_type": "code",
   "execution_count": 40,
   "metadata": {},
   "outputs": [
    {
     "data": {
      "text/plain": [
       "dict_items([('season', 8), ('genre', 'Action'), ('studio', 'Dc comoic'), ('Title', 'Arrow')])"
      ]
     },
     "execution_count": 40,
     "metadata": {},
     "output_type": "execute_result"
    }
   ],
   "source": [
    "series2.items()"
   ]
  },
  {
   "cell_type": "code",
   "execution_count": 42,
   "metadata": {},
   "outputs": [
    {
     "data": {
      "text/plain": [
       "{'titl': 'Hyper focus',\n",
       " 'Author': 'Hai koi',\n",
       " 'Summary': 'Focus on your attention space'}"
      ]
     },
     "execution_count": 42,
     "metadata": {},
     "output_type": "execute_result"
    }
   ],
   "source": [
    "books.pop('book 1')"
   ]
  },
  {
   "cell_type": "code",
   "execution_count": 43,
   "metadata": {},
   "outputs": [
    {
     "data": {
      "text/plain": [
       "{'book2': {'title': 'Think like a monk',\n",
       "  'author': 'Jay shetty',\n",
       "  'summary': 'How a monk live a life'},\n",
       " 'book3': {'title': 'the shutle of art not giving a fuck',\n",
       "  'author': 'name yad ni a raha hai abhi',\n",
       "  'summary': 'Just focus on yourself'}}"
      ]
     },
     "execution_count": 43,
     "metadata": {},
     "output_type": "execute_result"
    }
   ],
   "source": [
    "books"
   ]
  },
  {
   "cell_type": "code",
   "execution_count": 46,
   "metadata": {},
   "outputs": [
    {
     "data": {
      "text/plain": [
       "{'book2': {'title': 'Think like a monk',\n",
       "  'author': 'Jay shetty',\n",
       "  'summary': 'How a monk live a life'},\n",
       " 'book3': {'title': 'the shutle of art not giving a fuck',\n",
       "  'author': 'name yad ni a raha hai abhi',\n",
       "  'summary': 'Just focus on yourself'},\n",
       " 'series': {'name': 'flash',\n",
       "  'total season': 8,\n",
       "  'most popular season': 4,\n",
       "  'genre': 'sci-fi',\n",
       "  'available': 'netflix'}}"
      ]
     },
     "execution_count": 46,
     "metadata": {},
     "output_type": "execute_result"
    }
   ],
   "source": [
    "books.update({'series': series})\n",
    "books"
   ]
  },
  {
   "cell_type": "code",
   "execution_count": 48,
   "metadata": {},
   "outputs": [
    {
     "data": {
      "text/plain": [
       "{'book2': {'title': 'Think like a monk',\n",
       "  'author': 'Jay shetty',\n",
       "  'summary': 'How a monk live a life'},\n",
       " 'book3': {'title': 'the shutle of art not giving a fuck',\n",
       "  'author': 'name yad ni a raha hai abhi',\n",
       "  'summary': 'Just focus on yourself'},\n",
       " 'series': {'name': 'flash',\n",
       "  'total season': 8,\n",
       "  'most popular season': 4,\n",
       "  'genre': 'sci-fi',\n",
       "  'available': 'netflix'},\n",
       " 'series2': {'season': 8,\n",
       "  'genre': 'Action',\n",
       "  'studio': 'Dc comoic',\n",
       "  'Title': 'Arrow'}}"
      ]
     },
     "execution_count": 48,
     "metadata": {},
     "output_type": "execute_result"
    }
   ],
   "source": [
    "books.update({'series2':series2})\n",
    "books"
   ]
  },
  {
   "cell_type": "code",
   "execution_count": 49,
   "metadata": {},
   "outputs": [
    {
     "name": "stdout",
     "output_type": "stream",
     "text": [
      "{'name': 'Alok', 'phone': '8564061619'}\n"
     ]
    }
   ],
   "source": [
    "contact = {}\n",
    "nm = input(\"enter the name: \")\n",
    "ph = input(\"enter the number: \")\n",
    "contact['name'] = nm\n",
    "contact['phone'] = ph\n",
    "print(contact)"
   ]
  },
  {
   "cell_type": "code",
   "execution_count": null,
   "metadata": {},
   "outputs": [],
   "source": []
  }
 ],
 "metadata": {
  "kernelspec": {
   "display_name": "base",
   "language": "python",
   "name": "python3"
  },
  "language_info": {
   "codemirror_mode": {
    "name": "ipython",
    "version": 3
   },
   "file_extension": ".py",
   "mimetype": "text/x-python",
   "name": "python",
   "nbconvert_exporter": "python",
   "pygments_lexer": "ipython3",
   "version": "3.10.8"
  },
  "orig_nbformat": 4,
  "vscode": {
   "interpreter": {
    "hash": "167cecdb405fce503900cb57d6dfd342559047d0558c5d3fa55fcfc7aba6f73c"
   }
  }
 },
 "nbformat": 4,
 "nbformat_minor": 2
}
