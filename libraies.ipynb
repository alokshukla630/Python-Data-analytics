{
 "cells": [
  {
   "attachments": {},
   "cell_type": "markdown",
   "metadata": {},
   "source": [
    ".math module\n",
    ".random module\n",
    ".os module\n",
    ".datetime module\n"
   ]
  },
  {
   "attachments": {},
   "cell_type": "markdown",
   "metadata": {},
   "source": [
    "for library importation there are three steps\n",
    ".'import library'\n",
    ".'from library import func1,func2,func3'\n",
    ".import library as  'lib #alis\n",
    "# for to many function use we use 4 type of importatio\n",
    "'''\n",
    "from library import {\n",
    "    fun1,fun2,fun3\n",
    "}\n",
    "'''"
   ]
  },
  {
   "cell_type": "code",
   "execution_count": 2,
   "metadata": {},
   "outputs": [
    {
     "data": {
      "text/plain": [
       "9.899494936611665"
      ]
     },
     "execution_count": 2,
     "metadata": {},
     "output_type": "execute_result"
    }
   ],
   "source": [
    "import math\n",
    "math.sqrt(98\n",
    "          )"
   ]
  },
  {
   "cell_type": "code",
   "execution_count": 3,
   "metadata": {},
   "outputs": [
    {
     "data": {
      "text/plain": [
       "1307674368000"
      ]
     },
     "execution_count": 3,
     "metadata": {},
     "output_type": "execute_result"
    }
   ],
   "source": [
    "math.factorial(15)"
   ]
  },
  {
   "cell_type": "code",
   "execution_count": 4,
   "metadata": {},
   "outputs": [
    {
     "data": {
      "text/plain": [
       "180.0"
      ]
     },
     "execution_count": 4,
     "metadata": {},
     "output_type": "execute_result"
    }
   ],
   "source": [
    "math.degrees(math.pi)"
   ]
  },
  {
   "cell_type": "code",
   "execution_count": 5,
   "metadata": {},
   "outputs": [],
   "source": [
    "from random import randint , random, choice"
   ]
  },
  {
   "cell_type": "code",
   "execution_count": 9,
   "metadata": {},
   "outputs": [
    {
     "name": "stdout",
     "output_type": "stream",
     "text": [
      "i got 39\n"
     ]
    }
   ],
   "source": [
    "res = randint(1,50)\n",
    "print(f'i got {res}')"
   ]
  },
  {
   "cell_type": "code",
   "execution_count": 12,
   "metadata": {},
   "outputs": [
    {
     "data": {
      "text/plain": [
       "1"
      ]
     },
     "execution_count": 12,
     "metadata": {},
     "output_type": "execute_result"
    }
   ],
   "source": [
    "choice([1,32,45,31,56,75,54])"
   ]
  },
  {
   "attachments": {},
   "cell_type": "markdown",
   "metadata": {},
   "source": [
    "colours = 'green, red, blue, red, red, green'\n",
    "colours.find('red')"
   ]
  },
  {
   "cell_type": "code",
   "execution_count": 13,
   "metadata": {},
   "outputs": [],
   "source": [
    "import os"
   ]
  },
  {
   "cell_type": "code",
   "execution_count": 15,
   "metadata": {},
   "outputs": [
    {
     "name": "stdout",
     "output_type": "stream",
     "text": [
      "c:\\Users\\Alok Shukla\\Documents\\Project bbd\n"
     ]
    }
   ],
   "source": [
    "print(os.getcwd())"
   ]
  },
  {
   "cell_type": "code",
   "execution_count": 17,
   "metadata": {},
   "outputs": [
    {
     "name": "stdout",
     "output_type": "stream",
     "text": [
      "c:\\Users\\Alok Shukla\\Documents\\Project bbd\n"
     ]
    }
   ],
   "source": [
    "base_dir = os.getcwd()\n",
    "print(base_dir)"
   ]
  },
  {
   "cell_type": "code",
   "execution_count": 18,
   "metadata": {},
   "outputs": [
    {
     "name": "stdout",
     "output_type": "stream",
     "text": [
      "['.git', 'app_one.py', 'ar.py', 'basics.ipynb', 'condition.ipynb', 'dice.simulator.py', 'dict.ipynb', 'func.ipynb', 'hello.py', 'libraies.ipynb', 'new', 'si.py', 't1.py', 'tupple.ipynb', 'xyz.ipynb']\n"
     ]
    }
   ],
   "source": [
    "contents = os.listdir() # get the content of the current direvtory\n",
    "print(contents)"
   ]
  },
  {
   "cell_type": "code",
   "execution_count": 23,
   "metadata": {},
   "outputs": [
    {
     "name": "stdout",
     "output_type": "stream",
     "text": [
      "[]\n"
     ]
    }
   ],
   "source": [
    "programs  = os.listdir('C:\\Program Files')\n",
    "print(programs)"
   ]
  },
  {
   "cell_type": "code",
   "execution_count": 33,
   "metadata": {},
   "outputs": [
    {
     "name": "stdout",
     "output_type": "stream",
     "text": [
      "['110'] | []\n",
      "['Shared'] | []\n",
      "[] | ['msasxpress.dll']\n"
     ]
    }
   ],
   "source": [
    "for path,folders,files in os.walk('C:\\Program Files\\Microsoft SQL Server'):\n",
    "    print(f'{folders} | {files}')\n",
    "    \n",
    "\n"
   ]
  },
  {
   "cell_type": "code",
   "execution_count": 34,
   "metadata": {},
   "outputs": [
    {
     "data": {
      "text/plain": [
       "7"
      ]
     },
     "execution_count": 34,
     "metadata": {},
     "output_type": "execute_result"
    }
   ],
   "source": [
    "colours = 'green, red, blue, red, red, green'\n",
    "colours.find('red')"
   ]
  },
  {
   "cell_type": "code",
   "execution_count": 35,
   "metadata": {},
   "outputs": [
    {
     "name": "stdout",
     "output_type": "stream",
     "text": [
      "(0, 'g')\n",
      "(1, 'r')\n",
      "(2, 'e')\n",
      "(3, 'e')\n",
      "(4, 'n')\n",
      "(5, ',')\n",
      "(6, ' ')\n",
      "(7, 'r')\n",
      "(8, 'e')\n",
      "(9, 'd')\n",
      "(10, ',')\n",
      "(11, ' ')\n",
      "(12, 'b')\n",
      "(13, 'l')\n",
      "(14, 'u')\n",
      "(15, 'e')\n",
      "(16, ',')\n",
      "(17, ' ')\n",
      "(18, 'r')\n",
      "(19, 'e')\n",
      "(20, 'd')\n",
      "(21, ',')\n",
      "(22, ' ')\n",
      "(23, 'r')\n",
      "(24, 'e')\n",
      "(25, 'd')\n",
      "(26, ',')\n",
      "(27, ' ')\n",
      "(28, 'g')\n",
      "(29, 'r')\n",
      "(30, 'e')\n",
      "(31, 'e')\n",
      "(32, 'n')\n"
     ]
    }
   ],
   "source": [
    "for i in enumerate(colours):\n",
    "    print(i)\n"
   ]
  },
  {
   "cell_type": "code",
   "execution_count": 36,
   "metadata": {},
   "outputs": [
    {
     "data": {
      "text/plain": [
       "True"
      ]
     },
     "execution_count": 36,
     "metadata": {},
     "output_type": "execute_result"
    }
   ],
   "source": [
    "os.path.exists('C:\\Program Files\\Microsoft SQL Server ')"
   ]
  },
  {
   "cell_type": "code",
   "execution_count": null,
   "metadata": {},
   "outputs": [],
   "source": []
  }
 ],
 "metadata": {
  "kernelspec": {
   "display_name": "base",
   "language": "python",
   "name": "python3"
  },
  "language_info": {
   "codemirror_mode": {
    "name": "ipython",
    "version": 3
   },
   "file_extension": ".py",
   "mimetype": "text/x-python",
   "name": "python",
   "nbconvert_exporter": "python",
   "pygments_lexer": "ipython3",
   "version": "3.10.8"
  },
  "orig_nbformat": 4
 },
 "nbformat": 4,
 "nbformat_minor": 2
}
